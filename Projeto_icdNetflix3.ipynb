{
  "nbformat": 4,
  "nbformat_minor": 0,
  "metadata": {
    "colab": {
      "provenance": []
    },
    "kernelspec": {
      "name": "python3",
      "display_name": "Python 3"
    },
    "language_info": {
      "name": "python"
    }
  },
  "cells": [
    {
      "cell_type": "markdown",
      "source": [
        "#Programas de TV e filmes da Netflix, Preço das ações da Netflix e Os 10 melhores diários da Netflix.\n",
        "\n",
        "\n",
        "Ana Paula Cardoso de Castro Kendall\n",
        "\n",
        "Francelino Teotonio Júnior\n",
        "\n",
        "Vivianny Khatly Medeiros Pereira\n",
        "\n",
        "\n",
        "#Introdução\n",
        "\n",
        "Nesse projeto foi usados os datasets dos sites \n",
        "(https://www.kaggle.com/datasets/victorsoeiro/netflix-tv-shows-and-movies?select=titles.csv)\n",
        "\n",
        "(https://www.kaggle.com/datasets/akpmpr/updated-netflix-stock-price-all-time)\n",
        "\n",
        "(https://www.kaggle.com/datasets/prasertk/netflix-daily-top-10-in-us)\n",
        "\n",
        " para analisar os dados da Netflix e foi construído para saber se a duração do filme influencia na sua popularidade? O gênero influencia o quão longo o filme vai ser? A Netflix é mais valiosa quando o seu catálogo está bom?\n",
        "\n",
        "#Dados Usados\n",
        "\n",
        "Para os dados usados foi requerido o dataset do site kaggle chamado \"catalog.csv\", \"daily_top_10.csv\" e \"stocks.csv\" que consta Listagens de filmes e programas de TV na Netflix (julho de 2022) a Preço atualizado das ações da Netflix, desde seu IPO (23 de maio de 2002) e Os 10 melhores filmes/programas de TV diários da Netflix nos Estados Unidos de 2020 a março de 2022.\n",
        "\n",
        "#Variáveis\n",
        "\n",
        "dataset = catalog.csv\n",
        "\n",
        "dataset = daily top 10.csv\n",
        "\n",
        "dataset = stocks.csv\n",
        "\n",
        "runtime = tempo de execução do filme\n",
        "\n",
        "imdb_score = Internet Movie Database avaliação de filmes\n",
        "\n",
        "Viewership Score = Pontuação de audiência\n",
        "\n",
        "Adj Close = Ajuste Fechar\n",
        "\n",
        "Days In Top 10 = Dias no top 10"
      ],
      "metadata": {
        "id": "tqfx6ADTQ6Lf"
      }
    },
    {
      "cell_type": "markdown",
      "source": [
        "#Perguntas:\n",
        "\n",
        "Os espectadores preferem filmes curtos, longos ou de duração média?\n",
        "    \n",
        "    > comparar a média do ranking total com a media do ranking nos seguintes intervalos:\n",
        "\n",
        "    > curto: até 80 minutos\n",
        "    > normal: 81 a 140 minutos\n",
        "    > longo: mais de 140 minutos \n",
        "\n",
        "O gênero influencia na duração do filme?\n",
        "\n",
        "    > observar a correlação entre genero e duração do filme\n",
        "\n",
        "A Netflix é mais valiosa quando o seu catálogo está bom?\n",
        "\n",
        "    > observar a correlação entre a média de avaliações do daily top ten com o preço da ação"
      ],
      "metadata": {
        "id": "s5FOmjbW5a90"
      }
    },
    {
      "cell_type": "code",
      "source": [
        "import seaborn as sns\n",
        "import matplotlib.pyplot as plt\n",
        "import numpy as np \n",
        "import os \n",
        "import pandas as pd\n",
        "from scipy import stats\n",
        "import warnings\n",
        "warnings.simplefilter(action=\"ignore\", category=FutureWarning)\n",
        "%matplotlib inline\n",
        "\n",
        "catalog_df = pd.read_csv(\"catalog.csv\")\n",
        "movies_df = catalog_df.loc[catalog_df.type == \"MOVIE\"]\n",
        "\n",
        "daily_top10_df = pd.read_csv(\"daily top 10.csv\")\n",
        "stocks_df = pd.read_csv(\"stocks.csv\")\n"
      ],
      "metadata": {
        "id": "Oy83_mL-WByv"
      },
      "execution_count": 1,
      "outputs": []
    },
    {
      "cell_type": "code",
      "source": [
        "movies_df"
      ],
      "metadata": {
        "colab": {
          "base_uri": "https://localhost:8080/",
          "height": 424
        },
        "id": "EhLol37Jb5CR",
        "outputId": "9748f777-d435-4872-9d07-d4ef99c90080"
      },
      "execution_count": null,
      "outputs": [
        {
          "output_type": "execute_result",
          "data": {
            "text/plain": [
              "             id                              title   type  release_year  \\\n",
              "0       tm84618                        Taxi Driver  MOVIE          1976   \n",
              "1      tm154986                        Deliverance  MOVIE          1972   \n",
              "2      tm127384    Monty Python and the Holy Grail  MOVIE          1975   \n",
              "3      tm120801                    The Dirty Dozen  MOVIE          1967   \n",
              "5       tm70993                      Life of Brian  MOVIE          1979   \n",
              "...         ...                                ...    ...           ...   \n",
              "5362  tm1066324  Super Monsters: Once Upon a Rhyme  MOVIE          2021   \n",
              "5363  tm1097142                           My Bride  MOVIE          2021   \n",
              "5364  tm1014599                          Fine Wine  MOVIE          2021   \n",
              "5365   tm898842                        C/O Kaadhal  MOVIE          2021   \n",
              "5366  tm1059008                            Lokillo  MOVIE          2021   \n",
              "\n",
              "      runtime                                       genres  imdb_score  \n",
              "0         114                           ['drama', 'crime']         8.2  \n",
              "1         109  ['drama', 'action', 'thriller', 'european']         7.7  \n",
              "2          91              ['fantasy', 'action', 'comedy']         8.2  \n",
              "3         150                            ['war', 'action']         7.7  \n",
              "5          94                                   ['comedy']         8.0  \n",
              "...       ...                                          ...         ...  \n",
              "5362       25                      ['animation', 'family']         5.6  \n",
              "5363       93               ['romance', 'comedy', 'drama']         5.0  \n",
              "5364      100                         ['romance', 'drama']         6.8  \n",
              "5365      134                                    ['drama']         7.7  \n",
              "5366       90                                   ['comedy']         3.8  \n",
              "\n",
              "[3429 rows x 7 columns]"
            ],
            "text/html": [
              "\n",
              "  <div id=\"df-f7f4dbbf-aa60-4f24-a4ba-088ba6d60292\">\n",
              "    <div class=\"colab-df-container\">\n",
              "      <div>\n",
              "<style scoped>\n",
              "    .dataframe tbody tr th:only-of-type {\n",
              "        vertical-align: middle;\n",
              "    }\n",
              "\n",
              "    .dataframe tbody tr th {\n",
              "        vertical-align: top;\n",
              "    }\n",
              "\n",
              "    .dataframe thead th {\n",
              "        text-align: right;\n",
              "    }\n",
              "</style>\n",
              "<table border=\"1\" class=\"dataframe\">\n",
              "  <thead>\n",
              "    <tr style=\"text-align: right;\">\n",
              "      <th></th>\n",
              "      <th>id</th>\n",
              "      <th>title</th>\n",
              "      <th>type</th>\n",
              "      <th>release_year</th>\n",
              "      <th>runtime</th>\n",
              "      <th>genres</th>\n",
              "      <th>imdb_score</th>\n",
              "    </tr>\n",
              "  </thead>\n",
              "  <tbody>\n",
              "    <tr>\n",
              "      <th>0</th>\n",
              "      <td>tm84618</td>\n",
              "      <td>Taxi Driver</td>\n",
              "      <td>MOVIE</td>\n",
              "      <td>1976</td>\n",
              "      <td>114</td>\n",
              "      <td>['drama', 'crime']</td>\n",
              "      <td>8.2</td>\n",
              "    </tr>\n",
              "    <tr>\n",
              "      <th>1</th>\n",
              "      <td>tm154986</td>\n",
              "      <td>Deliverance</td>\n",
              "      <td>MOVIE</td>\n",
              "      <td>1972</td>\n",
              "      <td>109</td>\n",
              "      <td>['drama', 'action', 'thriller', 'european']</td>\n",
              "      <td>7.7</td>\n",
              "    </tr>\n",
              "    <tr>\n",
              "      <th>2</th>\n",
              "      <td>tm127384</td>\n",
              "      <td>Monty Python and the Holy Grail</td>\n",
              "      <td>MOVIE</td>\n",
              "      <td>1975</td>\n",
              "      <td>91</td>\n",
              "      <td>['fantasy', 'action', 'comedy']</td>\n",
              "      <td>8.2</td>\n",
              "    </tr>\n",
              "    <tr>\n",
              "      <th>3</th>\n",
              "      <td>tm120801</td>\n",
              "      <td>The Dirty Dozen</td>\n",
              "      <td>MOVIE</td>\n",
              "      <td>1967</td>\n",
              "      <td>150</td>\n",
              "      <td>['war', 'action']</td>\n",
              "      <td>7.7</td>\n",
              "    </tr>\n",
              "    <tr>\n",
              "      <th>5</th>\n",
              "      <td>tm70993</td>\n",
              "      <td>Life of Brian</td>\n",
              "      <td>MOVIE</td>\n",
              "      <td>1979</td>\n",
              "      <td>94</td>\n",
              "      <td>['comedy']</td>\n",
              "      <td>8.0</td>\n",
              "    </tr>\n",
              "    <tr>\n",
              "      <th>...</th>\n",
              "      <td>...</td>\n",
              "      <td>...</td>\n",
              "      <td>...</td>\n",
              "      <td>...</td>\n",
              "      <td>...</td>\n",
              "      <td>...</td>\n",
              "      <td>...</td>\n",
              "    </tr>\n",
              "    <tr>\n",
              "      <th>5362</th>\n",
              "      <td>tm1066324</td>\n",
              "      <td>Super Monsters: Once Upon a Rhyme</td>\n",
              "      <td>MOVIE</td>\n",
              "      <td>2021</td>\n",
              "      <td>25</td>\n",
              "      <td>['animation', 'family']</td>\n",
              "      <td>5.6</td>\n",
              "    </tr>\n",
              "    <tr>\n",
              "      <th>5363</th>\n",
              "      <td>tm1097142</td>\n",
              "      <td>My Bride</td>\n",
              "      <td>MOVIE</td>\n",
              "      <td>2021</td>\n",
              "      <td>93</td>\n",
              "      <td>['romance', 'comedy', 'drama']</td>\n",
              "      <td>5.0</td>\n",
              "    </tr>\n",
              "    <tr>\n",
              "      <th>5364</th>\n",
              "      <td>tm1014599</td>\n",
              "      <td>Fine Wine</td>\n",
              "      <td>MOVIE</td>\n",
              "      <td>2021</td>\n",
              "      <td>100</td>\n",
              "      <td>['romance', 'drama']</td>\n",
              "      <td>6.8</td>\n",
              "    </tr>\n",
              "    <tr>\n",
              "      <th>5365</th>\n",
              "      <td>tm898842</td>\n",
              "      <td>C/O Kaadhal</td>\n",
              "      <td>MOVIE</td>\n",
              "      <td>2021</td>\n",
              "      <td>134</td>\n",
              "      <td>['drama']</td>\n",
              "      <td>7.7</td>\n",
              "    </tr>\n",
              "    <tr>\n",
              "      <th>5366</th>\n",
              "      <td>tm1059008</td>\n",
              "      <td>Lokillo</td>\n",
              "      <td>MOVIE</td>\n",
              "      <td>2021</td>\n",
              "      <td>90</td>\n",
              "      <td>['comedy']</td>\n",
              "      <td>3.8</td>\n",
              "    </tr>\n",
              "  </tbody>\n",
              "</table>\n",
              "<p>3429 rows × 7 columns</p>\n",
              "</div>\n",
              "      <button class=\"colab-df-convert\" onclick=\"convertToInteractive('df-f7f4dbbf-aa60-4f24-a4ba-088ba6d60292')\"\n",
              "              title=\"Convert this dataframe to an interactive table.\"\n",
              "              style=\"display:none;\">\n",
              "        \n",
              "  <svg xmlns=\"http://www.w3.org/2000/svg\" height=\"24px\"viewBox=\"0 0 24 24\"\n",
              "       width=\"24px\">\n",
              "    <path d=\"M0 0h24v24H0V0z\" fill=\"none\"/>\n",
              "    <path d=\"M18.56 5.44l.94 2.06.94-2.06 2.06-.94-2.06-.94-.94-2.06-.94 2.06-2.06.94zm-11 1L8.5 8.5l.94-2.06 2.06-.94-2.06-.94L8.5 2.5l-.94 2.06-2.06.94zm10 10l.94 2.06.94-2.06 2.06-.94-2.06-.94-.94-2.06-.94 2.06-2.06.94z\"/><path d=\"M17.41 7.96l-1.37-1.37c-.4-.4-.92-.59-1.43-.59-.52 0-1.04.2-1.43.59L10.3 9.45l-7.72 7.72c-.78.78-.78 2.05 0 2.83L4 21.41c.39.39.9.59 1.41.59.51 0 1.02-.2 1.41-.59l7.78-7.78 2.81-2.81c.8-.78.8-2.07 0-2.86zM5.41 20L4 18.59l7.72-7.72 1.47 1.35L5.41 20z\"/>\n",
              "  </svg>\n",
              "      </button>\n",
              "      \n",
              "  <style>\n",
              "    .colab-df-container {\n",
              "      display:flex;\n",
              "      flex-wrap:wrap;\n",
              "      gap: 12px;\n",
              "    }\n",
              "\n",
              "    .colab-df-convert {\n",
              "      background-color: #E8F0FE;\n",
              "      border: none;\n",
              "      border-radius: 50%;\n",
              "      cursor: pointer;\n",
              "      display: none;\n",
              "      fill: #1967D2;\n",
              "      height: 32px;\n",
              "      padding: 0 0 0 0;\n",
              "      width: 32px;\n",
              "    }\n",
              "\n",
              "    .colab-df-convert:hover {\n",
              "      background-color: #E2EBFA;\n",
              "      box-shadow: 0px 1px 2px rgba(60, 64, 67, 0.3), 0px 1px 3px 1px rgba(60, 64, 67, 0.15);\n",
              "      fill: #174EA6;\n",
              "    }\n",
              "\n",
              "    [theme=dark] .colab-df-convert {\n",
              "      background-color: #3B4455;\n",
              "      fill: #D2E3FC;\n",
              "    }\n",
              "\n",
              "    [theme=dark] .colab-df-convert:hover {\n",
              "      background-color: #434B5C;\n",
              "      box-shadow: 0px 1px 3px 1px rgba(0, 0, 0, 0.15);\n",
              "      filter: drop-shadow(0px 1px 2px rgba(0, 0, 0, 0.3));\n",
              "      fill: #FFFFFF;\n",
              "    }\n",
              "  </style>\n",
              "\n",
              "      <script>\n",
              "        const buttonEl =\n",
              "          document.querySelector('#df-f7f4dbbf-aa60-4f24-a4ba-088ba6d60292 button.colab-df-convert');\n",
              "        buttonEl.style.display =\n",
              "          google.colab.kernel.accessAllowed ? 'block' : 'none';\n",
              "\n",
              "        async function convertToInteractive(key) {\n",
              "          const element = document.querySelector('#df-f7f4dbbf-aa60-4f24-a4ba-088ba6d60292');\n",
              "          const dataTable =\n",
              "            await google.colab.kernel.invokeFunction('convertToInteractive',\n",
              "                                                     [key], {});\n",
              "          if (!dataTable) return;\n",
              "\n",
              "          const docLinkHtml = 'Like what you see? Visit the ' +\n",
              "            '<a target=\"_blank\" href=https://colab.research.google.com/notebooks/data_table.ipynb>data table notebook</a>'\n",
              "            + ' to learn more about interactive tables.';\n",
              "          element.innerHTML = '';\n",
              "          dataTable['output_type'] = 'display_data';\n",
              "          await google.colab.output.renderOutput(dataTable, element);\n",
              "          const docLink = document.createElement('div');\n",
              "          docLink.innerHTML = docLinkHtml;\n",
              "          element.appendChild(docLink);\n",
              "        }\n",
              "      </script>\n",
              "    </div>\n",
              "  </div>\n",
              "  "
            ]
          },
          "metadata": {},
          "execution_count": 2
        }
      ]
    },
    {
      "cell_type": "code",
      "source": [
        "stocks_df"
      ],
      "metadata": {
        "colab": {
          "base_uri": "https://localhost:8080/",
          "height": 424
        },
        "id": "cqv7iwaga31w",
        "outputId": "5338d18b-1c63-4455-b13a-dfa879c4f983"
      },
      "execution_count": null,
      "outputs": [
        {
          "output_type": "execute_result",
          "data": {
            "text/plain": [
              "            Date        High         Low        Open       Close       Volume  \\\n",
              "0     2002-05-23    1.242857    1.145714    1.156429    1.196429  104790000.0   \n",
              "1     2002-05-24    1.225000    1.197143    1.214286    1.210000   11104800.0   \n",
              "2     2002-05-28    1.232143    1.157143    1.213571    1.157143    6609400.0   \n",
              "3     2002-05-29    1.164286    1.085714    1.164286    1.103571    6757800.0   \n",
              "4     2002-05-30    1.107857    1.071429    1.107857    1.071429   10154200.0   \n",
              "...          ...         ...         ...         ...         ...          ...   \n",
              "4876  2021-10-05  640.390015  606.890015  606.940002  634.809998    9534300.0   \n",
              "4877  2021-10-06  639.869995  626.359985  628.179993  639.099976    4580400.0   \n",
              "4878  2021-10-07  646.840027  630.450012  642.229980  631.849976    3556900.0   \n",
              "4879  2021-10-08  643.799988  630.859985  634.169983  632.659973    3271100.0   \n",
              "4880  2021-10-11  639.419983  626.780029  633.200012  627.039978    2861200.0   \n",
              "\n",
              "       Adj Close  \n",
              "0       1.196429  \n",
              "1       1.210000  \n",
              "2       1.157143  \n",
              "3       1.103571  \n",
              "4       1.071429  \n",
              "...          ...  \n",
              "4876  634.809998  \n",
              "4877  639.099976  \n",
              "4878  631.849976  \n",
              "4879  632.659973  \n",
              "4880  627.039978  \n",
              "\n",
              "[4881 rows x 7 columns]"
            ],
            "text/html": [
              "\n",
              "  <div id=\"df-443abada-8ad6-4589-82cc-273ac2a4359f\">\n",
              "    <div class=\"colab-df-container\">\n",
              "      <div>\n",
              "<style scoped>\n",
              "    .dataframe tbody tr th:only-of-type {\n",
              "        vertical-align: middle;\n",
              "    }\n",
              "\n",
              "    .dataframe tbody tr th {\n",
              "        vertical-align: top;\n",
              "    }\n",
              "\n",
              "    .dataframe thead th {\n",
              "        text-align: right;\n",
              "    }\n",
              "</style>\n",
              "<table border=\"1\" class=\"dataframe\">\n",
              "  <thead>\n",
              "    <tr style=\"text-align: right;\">\n",
              "      <th></th>\n",
              "      <th>Date</th>\n",
              "      <th>High</th>\n",
              "      <th>Low</th>\n",
              "      <th>Open</th>\n",
              "      <th>Close</th>\n",
              "      <th>Volume</th>\n",
              "      <th>Adj Close</th>\n",
              "    </tr>\n",
              "  </thead>\n",
              "  <tbody>\n",
              "    <tr>\n",
              "      <th>0</th>\n",
              "      <td>2002-05-23</td>\n",
              "      <td>1.242857</td>\n",
              "      <td>1.145714</td>\n",
              "      <td>1.156429</td>\n",
              "      <td>1.196429</td>\n",
              "      <td>104790000.0</td>\n",
              "      <td>1.196429</td>\n",
              "    </tr>\n",
              "    <tr>\n",
              "      <th>1</th>\n",
              "      <td>2002-05-24</td>\n",
              "      <td>1.225000</td>\n",
              "      <td>1.197143</td>\n",
              "      <td>1.214286</td>\n",
              "      <td>1.210000</td>\n",
              "      <td>11104800.0</td>\n",
              "      <td>1.210000</td>\n",
              "    </tr>\n",
              "    <tr>\n",
              "      <th>2</th>\n",
              "      <td>2002-05-28</td>\n",
              "      <td>1.232143</td>\n",
              "      <td>1.157143</td>\n",
              "      <td>1.213571</td>\n",
              "      <td>1.157143</td>\n",
              "      <td>6609400.0</td>\n",
              "      <td>1.157143</td>\n",
              "    </tr>\n",
              "    <tr>\n",
              "      <th>3</th>\n",
              "      <td>2002-05-29</td>\n",
              "      <td>1.164286</td>\n",
              "      <td>1.085714</td>\n",
              "      <td>1.164286</td>\n",
              "      <td>1.103571</td>\n",
              "      <td>6757800.0</td>\n",
              "      <td>1.103571</td>\n",
              "    </tr>\n",
              "    <tr>\n",
              "      <th>4</th>\n",
              "      <td>2002-05-30</td>\n",
              "      <td>1.107857</td>\n",
              "      <td>1.071429</td>\n",
              "      <td>1.107857</td>\n",
              "      <td>1.071429</td>\n",
              "      <td>10154200.0</td>\n",
              "      <td>1.071429</td>\n",
              "    </tr>\n",
              "    <tr>\n",
              "      <th>...</th>\n",
              "      <td>...</td>\n",
              "      <td>...</td>\n",
              "      <td>...</td>\n",
              "      <td>...</td>\n",
              "      <td>...</td>\n",
              "      <td>...</td>\n",
              "      <td>...</td>\n",
              "    </tr>\n",
              "    <tr>\n",
              "      <th>4876</th>\n",
              "      <td>2021-10-05</td>\n",
              "      <td>640.390015</td>\n",
              "      <td>606.890015</td>\n",
              "      <td>606.940002</td>\n",
              "      <td>634.809998</td>\n",
              "      <td>9534300.0</td>\n",
              "      <td>634.809998</td>\n",
              "    </tr>\n",
              "    <tr>\n",
              "      <th>4877</th>\n",
              "      <td>2021-10-06</td>\n",
              "      <td>639.869995</td>\n",
              "      <td>626.359985</td>\n",
              "      <td>628.179993</td>\n",
              "      <td>639.099976</td>\n",
              "      <td>4580400.0</td>\n",
              "      <td>639.099976</td>\n",
              "    </tr>\n",
              "    <tr>\n",
              "      <th>4878</th>\n",
              "      <td>2021-10-07</td>\n",
              "      <td>646.840027</td>\n",
              "      <td>630.450012</td>\n",
              "      <td>642.229980</td>\n",
              "      <td>631.849976</td>\n",
              "      <td>3556900.0</td>\n",
              "      <td>631.849976</td>\n",
              "    </tr>\n",
              "    <tr>\n",
              "      <th>4879</th>\n",
              "      <td>2021-10-08</td>\n",
              "      <td>643.799988</td>\n",
              "      <td>630.859985</td>\n",
              "      <td>634.169983</td>\n",
              "      <td>632.659973</td>\n",
              "      <td>3271100.0</td>\n",
              "      <td>632.659973</td>\n",
              "    </tr>\n",
              "    <tr>\n",
              "      <th>4880</th>\n",
              "      <td>2021-10-11</td>\n",
              "      <td>639.419983</td>\n",
              "      <td>626.780029</td>\n",
              "      <td>633.200012</td>\n",
              "      <td>627.039978</td>\n",
              "      <td>2861200.0</td>\n",
              "      <td>627.039978</td>\n",
              "    </tr>\n",
              "  </tbody>\n",
              "</table>\n",
              "<p>4881 rows × 7 columns</p>\n",
              "</div>\n",
              "      <button class=\"colab-df-convert\" onclick=\"convertToInteractive('df-443abada-8ad6-4589-82cc-273ac2a4359f')\"\n",
              "              title=\"Convert this dataframe to an interactive table.\"\n",
              "              style=\"display:none;\">\n",
              "        \n",
              "  <svg xmlns=\"http://www.w3.org/2000/svg\" height=\"24px\"viewBox=\"0 0 24 24\"\n",
              "       width=\"24px\">\n",
              "    <path d=\"M0 0h24v24H0V0z\" fill=\"none\"/>\n",
              "    <path d=\"M18.56 5.44l.94 2.06.94-2.06 2.06-.94-2.06-.94-.94-2.06-.94 2.06-2.06.94zm-11 1L8.5 8.5l.94-2.06 2.06-.94-2.06-.94L8.5 2.5l-.94 2.06-2.06.94zm10 10l.94 2.06.94-2.06 2.06-.94-2.06-.94-.94-2.06-.94 2.06-2.06.94z\"/><path d=\"M17.41 7.96l-1.37-1.37c-.4-.4-.92-.59-1.43-.59-.52 0-1.04.2-1.43.59L10.3 9.45l-7.72 7.72c-.78.78-.78 2.05 0 2.83L4 21.41c.39.39.9.59 1.41.59.51 0 1.02-.2 1.41-.59l7.78-7.78 2.81-2.81c.8-.78.8-2.07 0-2.86zM5.41 20L4 18.59l7.72-7.72 1.47 1.35L5.41 20z\"/>\n",
              "  </svg>\n",
              "      </button>\n",
              "      \n",
              "  <style>\n",
              "    .colab-df-container {\n",
              "      display:flex;\n",
              "      flex-wrap:wrap;\n",
              "      gap: 12px;\n",
              "    }\n",
              "\n",
              "    .colab-df-convert {\n",
              "      background-color: #E8F0FE;\n",
              "      border: none;\n",
              "      border-radius: 50%;\n",
              "      cursor: pointer;\n",
              "      display: none;\n",
              "      fill: #1967D2;\n",
              "      height: 32px;\n",
              "      padding: 0 0 0 0;\n",
              "      width: 32px;\n",
              "    }\n",
              "\n",
              "    .colab-df-convert:hover {\n",
              "      background-color: #E2EBFA;\n",
              "      box-shadow: 0px 1px 2px rgba(60, 64, 67, 0.3), 0px 1px 3px 1px rgba(60, 64, 67, 0.15);\n",
              "      fill: #174EA6;\n",
              "    }\n",
              "\n",
              "    [theme=dark] .colab-df-convert {\n",
              "      background-color: #3B4455;\n",
              "      fill: #D2E3FC;\n",
              "    }\n",
              "\n",
              "    [theme=dark] .colab-df-convert:hover {\n",
              "      background-color: #434B5C;\n",
              "      box-shadow: 0px 1px 3px 1px rgba(0, 0, 0, 0.15);\n",
              "      filter: drop-shadow(0px 1px 2px rgba(0, 0, 0, 0.3));\n",
              "      fill: #FFFFFF;\n",
              "    }\n",
              "  </style>\n",
              "\n",
              "      <script>\n",
              "        const buttonEl =\n",
              "          document.querySelector('#df-443abada-8ad6-4589-82cc-273ac2a4359f button.colab-df-convert');\n",
              "        buttonEl.style.display =\n",
              "          google.colab.kernel.accessAllowed ? 'block' : 'none';\n",
              "\n",
              "        async function convertToInteractive(key) {\n",
              "          const element = document.querySelector('#df-443abada-8ad6-4589-82cc-273ac2a4359f');\n",
              "          const dataTable =\n",
              "            await google.colab.kernel.invokeFunction('convertToInteractive',\n",
              "                                                     [key], {});\n",
              "          if (!dataTable) return;\n",
              "\n",
              "          const docLinkHtml = 'Like what you see? Visit the ' +\n",
              "            '<a target=\"_blank\" href=https://colab.research.google.com/notebooks/data_table.ipynb>data table notebook</a>'\n",
              "            + ' to learn more about interactive tables.';\n",
              "          element.innerHTML = '';\n",
              "          dataTable['output_type'] = 'display_data';\n",
              "          await google.colab.output.renderOutput(dataTable, element);\n",
              "          const docLink = document.createElement('div');\n",
              "          docLink.innerHTML = docLinkHtml;\n",
              "          element.appendChild(docLink);\n",
              "        }\n",
              "      </script>\n",
              "    </div>\n",
              "  </div>\n",
              "  "
            ]
          },
          "metadata": {},
          "execution_count": 84
        }
      ]
    },
    {
      "cell_type": "code",
      "source": [
        "catalog_df"
      ],
      "metadata": {
        "colab": {
          "base_uri": "https://localhost:8080/",
          "height": 424
        },
        "id": "4SNaNwaka2K3",
        "outputId": "03550e74-12e4-47f8-ae34-4e7d1456bbf8"
      },
      "execution_count": null,
      "outputs": [
        {
          "output_type": "execute_result",
          "data": {
            "text/plain": [
              "             id                               title   type  release_year  \\\n",
              "0       tm84618                         Taxi Driver  MOVIE          1976   \n",
              "1      tm154986                         Deliverance  MOVIE          1972   \n",
              "2      tm127384     Monty Python and the Holy Grail  MOVIE          1975   \n",
              "3      tm120801                     The Dirty Dozen  MOVIE          1967   \n",
              "4       ts22164        Monty Python's Flying Circus   SHOW          1969   \n",
              "...         ...                                 ...    ...           ...   \n",
              "5363  tm1097142                            My Bride  MOVIE          2021   \n",
              "5364  tm1014599                           Fine Wine  MOVIE          2021   \n",
              "5365   tm898842                         C/O Kaadhal  MOVIE          2021   \n",
              "5366  tm1059008                             Lokillo  MOVIE          2021   \n",
              "5367   ts271048  Mighty Little Bheem: Kite Festival   SHOW          2021   \n",
              "\n",
              "      runtime                                       genres  imdb_score  \n",
              "0         114                           ['drama', 'crime']         8.2  \n",
              "1         109  ['drama', 'action', 'thriller', 'european']         7.7  \n",
              "2          91              ['fantasy', 'action', 'comedy']         8.2  \n",
              "3         150                            ['war', 'action']         7.7  \n",
              "4          30                       ['comedy', 'european']         8.8  \n",
              "...       ...                                          ...         ...  \n",
              "5363       93               ['romance', 'comedy', 'drama']         5.0  \n",
              "5364      100                         ['romance', 'drama']         6.8  \n",
              "5365      134                                    ['drama']         7.7  \n",
              "5366       90                                   ['comedy']         3.8  \n",
              "5367        7            ['family', 'animation', 'comedy']         7.8  \n",
              "\n",
              "[5368 rows x 7 columns]"
            ],
            "text/html": [
              "\n",
              "  <div id=\"df-4478fae3-0d23-4266-bd86-bd62cb8fc989\">\n",
              "    <div class=\"colab-df-container\">\n",
              "      <div>\n",
              "<style scoped>\n",
              "    .dataframe tbody tr th:only-of-type {\n",
              "        vertical-align: middle;\n",
              "    }\n",
              "\n",
              "    .dataframe tbody tr th {\n",
              "        vertical-align: top;\n",
              "    }\n",
              "\n",
              "    .dataframe thead th {\n",
              "        text-align: right;\n",
              "    }\n",
              "</style>\n",
              "<table border=\"1\" class=\"dataframe\">\n",
              "  <thead>\n",
              "    <tr style=\"text-align: right;\">\n",
              "      <th></th>\n",
              "      <th>id</th>\n",
              "      <th>title</th>\n",
              "      <th>type</th>\n",
              "      <th>release_year</th>\n",
              "      <th>runtime</th>\n",
              "      <th>genres</th>\n",
              "      <th>imdb_score</th>\n",
              "    </tr>\n",
              "  </thead>\n",
              "  <tbody>\n",
              "    <tr>\n",
              "      <th>0</th>\n",
              "      <td>tm84618</td>\n",
              "      <td>Taxi Driver</td>\n",
              "      <td>MOVIE</td>\n",
              "      <td>1976</td>\n",
              "      <td>114</td>\n",
              "      <td>['drama', 'crime']</td>\n",
              "      <td>8.2</td>\n",
              "    </tr>\n",
              "    <tr>\n",
              "      <th>1</th>\n",
              "      <td>tm154986</td>\n",
              "      <td>Deliverance</td>\n",
              "      <td>MOVIE</td>\n",
              "      <td>1972</td>\n",
              "      <td>109</td>\n",
              "      <td>['drama', 'action', 'thriller', 'european']</td>\n",
              "      <td>7.7</td>\n",
              "    </tr>\n",
              "    <tr>\n",
              "      <th>2</th>\n",
              "      <td>tm127384</td>\n",
              "      <td>Monty Python and the Holy Grail</td>\n",
              "      <td>MOVIE</td>\n",
              "      <td>1975</td>\n",
              "      <td>91</td>\n",
              "      <td>['fantasy', 'action', 'comedy']</td>\n",
              "      <td>8.2</td>\n",
              "    </tr>\n",
              "    <tr>\n",
              "      <th>3</th>\n",
              "      <td>tm120801</td>\n",
              "      <td>The Dirty Dozen</td>\n",
              "      <td>MOVIE</td>\n",
              "      <td>1967</td>\n",
              "      <td>150</td>\n",
              "      <td>['war', 'action']</td>\n",
              "      <td>7.7</td>\n",
              "    </tr>\n",
              "    <tr>\n",
              "      <th>4</th>\n",
              "      <td>ts22164</td>\n",
              "      <td>Monty Python's Flying Circus</td>\n",
              "      <td>SHOW</td>\n",
              "      <td>1969</td>\n",
              "      <td>30</td>\n",
              "      <td>['comedy', 'european']</td>\n",
              "      <td>8.8</td>\n",
              "    </tr>\n",
              "    <tr>\n",
              "      <th>...</th>\n",
              "      <td>...</td>\n",
              "      <td>...</td>\n",
              "      <td>...</td>\n",
              "      <td>...</td>\n",
              "      <td>...</td>\n",
              "      <td>...</td>\n",
              "      <td>...</td>\n",
              "    </tr>\n",
              "    <tr>\n",
              "      <th>5363</th>\n",
              "      <td>tm1097142</td>\n",
              "      <td>My Bride</td>\n",
              "      <td>MOVIE</td>\n",
              "      <td>2021</td>\n",
              "      <td>93</td>\n",
              "      <td>['romance', 'comedy', 'drama']</td>\n",
              "      <td>5.0</td>\n",
              "    </tr>\n",
              "    <tr>\n",
              "      <th>5364</th>\n",
              "      <td>tm1014599</td>\n",
              "      <td>Fine Wine</td>\n",
              "      <td>MOVIE</td>\n",
              "      <td>2021</td>\n",
              "      <td>100</td>\n",
              "      <td>['romance', 'drama']</td>\n",
              "      <td>6.8</td>\n",
              "    </tr>\n",
              "    <tr>\n",
              "      <th>5365</th>\n",
              "      <td>tm898842</td>\n",
              "      <td>C/O Kaadhal</td>\n",
              "      <td>MOVIE</td>\n",
              "      <td>2021</td>\n",
              "      <td>134</td>\n",
              "      <td>['drama']</td>\n",
              "      <td>7.7</td>\n",
              "    </tr>\n",
              "    <tr>\n",
              "      <th>5366</th>\n",
              "      <td>tm1059008</td>\n",
              "      <td>Lokillo</td>\n",
              "      <td>MOVIE</td>\n",
              "      <td>2021</td>\n",
              "      <td>90</td>\n",
              "      <td>['comedy']</td>\n",
              "      <td>3.8</td>\n",
              "    </tr>\n",
              "    <tr>\n",
              "      <th>5367</th>\n",
              "      <td>ts271048</td>\n",
              "      <td>Mighty Little Bheem: Kite Festival</td>\n",
              "      <td>SHOW</td>\n",
              "      <td>2021</td>\n",
              "      <td>7</td>\n",
              "      <td>['family', 'animation', 'comedy']</td>\n",
              "      <td>7.8</td>\n",
              "    </tr>\n",
              "  </tbody>\n",
              "</table>\n",
              "<p>5368 rows × 7 columns</p>\n",
              "</div>\n",
              "      <button class=\"colab-df-convert\" onclick=\"convertToInteractive('df-4478fae3-0d23-4266-bd86-bd62cb8fc989')\"\n",
              "              title=\"Convert this dataframe to an interactive table.\"\n",
              "              style=\"display:none;\">\n",
              "        \n",
              "  <svg xmlns=\"http://www.w3.org/2000/svg\" height=\"24px\"viewBox=\"0 0 24 24\"\n",
              "       width=\"24px\">\n",
              "    <path d=\"M0 0h24v24H0V0z\" fill=\"none\"/>\n",
              "    <path d=\"M18.56 5.44l.94 2.06.94-2.06 2.06-.94-2.06-.94-.94-2.06-.94 2.06-2.06.94zm-11 1L8.5 8.5l.94-2.06 2.06-.94-2.06-.94L8.5 2.5l-.94 2.06-2.06.94zm10 10l.94 2.06.94-2.06 2.06-.94-2.06-.94-.94-2.06-.94 2.06-2.06.94z\"/><path d=\"M17.41 7.96l-1.37-1.37c-.4-.4-.92-.59-1.43-.59-.52 0-1.04.2-1.43.59L10.3 9.45l-7.72 7.72c-.78.78-.78 2.05 0 2.83L4 21.41c.39.39.9.59 1.41.59.51 0 1.02-.2 1.41-.59l7.78-7.78 2.81-2.81c.8-.78.8-2.07 0-2.86zM5.41 20L4 18.59l7.72-7.72 1.47 1.35L5.41 20z\"/>\n",
              "  </svg>\n",
              "      </button>\n",
              "      \n",
              "  <style>\n",
              "    .colab-df-container {\n",
              "      display:flex;\n",
              "      flex-wrap:wrap;\n",
              "      gap: 12px;\n",
              "    }\n",
              "\n",
              "    .colab-df-convert {\n",
              "      background-color: #E8F0FE;\n",
              "      border: none;\n",
              "      border-radius: 50%;\n",
              "      cursor: pointer;\n",
              "      display: none;\n",
              "      fill: #1967D2;\n",
              "      height: 32px;\n",
              "      padding: 0 0 0 0;\n",
              "      width: 32px;\n",
              "    }\n",
              "\n",
              "    .colab-df-convert:hover {\n",
              "      background-color: #E2EBFA;\n",
              "      box-shadow: 0px 1px 2px rgba(60, 64, 67, 0.3), 0px 1px 3px 1px rgba(60, 64, 67, 0.15);\n",
              "      fill: #174EA6;\n",
              "    }\n",
              "\n",
              "    [theme=dark] .colab-df-convert {\n",
              "      background-color: #3B4455;\n",
              "      fill: #D2E3FC;\n",
              "    }\n",
              "\n",
              "    [theme=dark] .colab-df-convert:hover {\n",
              "      background-color: #434B5C;\n",
              "      box-shadow: 0px 1px 3px 1px rgba(0, 0, 0, 0.15);\n",
              "      filter: drop-shadow(0px 1px 2px rgba(0, 0, 0, 0.3));\n",
              "      fill: #FFFFFF;\n",
              "    }\n",
              "  </style>\n",
              "\n",
              "      <script>\n",
              "        const buttonEl =\n",
              "          document.querySelector('#df-4478fae3-0d23-4266-bd86-bd62cb8fc989 button.colab-df-convert');\n",
              "        buttonEl.style.display =\n",
              "          google.colab.kernel.accessAllowed ? 'block' : 'none';\n",
              "\n",
              "        async function convertToInteractive(key) {\n",
              "          const element = document.querySelector('#df-4478fae3-0d23-4266-bd86-bd62cb8fc989');\n",
              "          const dataTable =\n",
              "            await google.colab.kernel.invokeFunction('convertToInteractive',\n",
              "                                                     [key], {});\n",
              "          if (!dataTable) return;\n",
              "\n",
              "          const docLinkHtml = 'Like what you see? Visit the ' +\n",
              "            '<a target=\"_blank\" href=https://colab.research.google.com/notebooks/data_table.ipynb>data table notebook</a>'\n",
              "            + ' to learn more about interactive tables.';\n",
              "          element.innerHTML = '';\n",
              "          dataTable['output_type'] = 'display_data';\n",
              "          await google.colab.output.renderOutput(dataTable, element);\n",
              "          const docLink = document.createElement('div');\n",
              "          docLink.innerHTML = docLinkHtml;\n",
              "          element.appendChild(docLink);\n",
              "        }\n",
              "      </script>\n",
              "    </div>\n",
              "  </div>\n",
              "  "
            ]
          },
          "metadata": {},
          "execution_count": 85
        }
      ]
    },
    {
      "cell_type": "code",
      "source": [
        "daily_top10_df"
      ],
      "metadata": {
        "colab": {
          "base_uri": "https://localhost:8080/",
          "height": 659
        },
        "id": "nhP2atKJa0ew",
        "outputId": "3e275769-5483-4f2b-9542-8dc11859968b"
      },
      "execution_count": null,
      "outputs": [
        {
          "output_type": "execute_result",
          "data": {
            "text/plain": [
              "           As of  Rank Year to Date Rank Last Week Rank  \\\n",
              "0     2020-04-01     1                 1              1   \n",
              "1     2020-04-01     2                 2              -   \n",
              "2     2020-04-01     3                 3              2   \n",
              "3     2020-04-01     4                 4              -   \n",
              "4     2020-04-01     5                 5              4   \n",
              "...          ...   ...               ...            ...   \n",
              "7095  2022-03-11     6                 5              1   \n",
              "7096  2022-03-11     7                 7              2   \n",
              "7097  2022-03-11     8                 8              -   \n",
              "7098  2022-03-11     9                 9              7   \n",
              "7099  2022-03-11    10                10              -   \n",
              "\n",
              "                             Title     Type Netflix Exclusive  \\\n",
              "0     Tiger King: Murder, Mayhem …  TV Show               Yes   \n",
              "1                            Ozark  TV Show               Yes   \n",
              "2                     All American  TV Show               NaN   \n",
              "3                     Blood Father    Movie               NaN   \n",
              "4                     The Platform    Movie               Yes   \n",
              "...                            ...      ...               ...   \n",
              "7095           Worst Roommate Ever  TV Show               Yes   \n",
              "7096             Vikings: Valhalla  TV Show               Yes   \n",
              "7097                       Shooter    Movie               NaN   \n",
              "7098                       Shrek 2    Movie               NaN   \n",
              "7099                         Shrek    Movie               NaN   \n",
              "\n",
              "     Netflix Release Date  Days In Top 10  Viewership Score  \n",
              "0            Mar 20, 2020               9                90  \n",
              "1            Jul 21, 2017               5                45  \n",
              "2            Mar 28, 2019               9                76  \n",
              "3            Mar 26, 2020               5                30  \n",
              "4            Mar 20, 2020               9                55  \n",
              "...                   ...             ...               ...  \n",
              "7095          Mar 1, 2022              10                81  \n",
              "7096         Feb 25, 2022              14               100  \n",
              "7097          Aug 1, 2014               3                 7  \n",
              "7098          Mar 1, 2022              10                33  \n",
              "7099          May 1, 2018               7                12  \n",
              "\n",
              "[7100 rows x 10 columns]"
            ],
            "text/html": [
              "\n",
              "  <div id=\"df-9a5539cb-9e32-46b2-b36c-88c24a567b71\">\n",
              "    <div class=\"colab-df-container\">\n",
              "      <div>\n",
              "<style scoped>\n",
              "    .dataframe tbody tr th:only-of-type {\n",
              "        vertical-align: middle;\n",
              "    }\n",
              "\n",
              "    .dataframe tbody tr th {\n",
              "        vertical-align: top;\n",
              "    }\n",
              "\n",
              "    .dataframe thead th {\n",
              "        text-align: right;\n",
              "    }\n",
              "</style>\n",
              "<table border=\"1\" class=\"dataframe\">\n",
              "  <thead>\n",
              "    <tr style=\"text-align: right;\">\n",
              "      <th></th>\n",
              "      <th>As of</th>\n",
              "      <th>Rank</th>\n",
              "      <th>Year to Date Rank</th>\n",
              "      <th>Last Week Rank</th>\n",
              "      <th>Title</th>\n",
              "      <th>Type</th>\n",
              "      <th>Netflix Exclusive</th>\n",
              "      <th>Netflix Release Date</th>\n",
              "      <th>Days In Top 10</th>\n",
              "      <th>Viewership Score</th>\n",
              "    </tr>\n",
              "  </thead>\n",
              "  <tbody>\n",
              "    <tr>\n",
              "      <th>0</th>\n",
              "      <td>2020-04-01</td>\n",
              "      <td>1</td>\n",
              "      <td>1</td>\n",
              "      <td>1</td>\n",
              "      <td>Tiger King: Murder, Mayhem …</td>\n",
              "      <td>TV Show</td>\n",
              "      <td>Yes</td>\n",
              "      <td>Mar 20, 2020</td>\n",
              "      <td>9</td>\n",
              "      <td>90</td>\n",
              "    </tr>\n",
              "    <tr>\n",
              "      <th>1</th>\n",
              "      <td>2020-04-01</td>\n",
              "      <td>2</td>\n",
              "      <td>2</td>\n",
              "      <td>-</td>\n",
              "      <td>Ozark</td>\n",
              "      <td>TV Show</td>\n",
              "      <td>Yes</td>\n",
              "      <td>Jul 21, 2017</td>\n",
              "      <td>5</td>\n",
              "      <td>45</td>\n",
              "    </tr>\n",
              "    <tr>\n",
              "      <th>2</th>\n",
              "      <td>2020-04-01</td>\n",
              "      <td>3</td>\n",
              "      <td>3</td>\n",
              "      <td>2</td>\n",
              "      <td>All American</td>\n",
              "      <td>TV Show</td>\n",
              "      <td>NaN</td>\n",
              "      <td>Mar 28, 2019</td>\n",
              "      <td>9</td>\n",
              "      <td>76</td>\n",
              "    </tr>\n",
              "    <tr>\n",
              "      <th>3</th>\n",
              "      <td>2020-04-01</td>\n",
              "      <td>4</td>\n",
              "      <td>4</td>\n",
              "      <td>-</td>\n",
              "      <td>Blood Father</td>\n",
              "      <td>Movie</td>\n",
              "      <td>NaN</td>\n",
              "      <td>Mar 26, 2020</td>\n",
              "      <td>5</td>\n",
              "      <td>30</td>\n",
              "    </tr>\n",
              "    <tr>\n",
              "      <th>4</th>\n",
              "      <td>2020-04-01</td>\n",
              "      <td>5</td>\n",
              "      <td>5</td>\n",
              "      <td>4</td>\n",
              "      <td>The Platform</td>\n",
              "      <td>Movie</td>\n",
              "      <td>Yes</td>\n",
              "      <td>Mar 20, 2020</td>\n",
              "      <td>9</td>\n",
              "      <td>55</td>\n",
              "    </tr>\n",
              "    <tr>\n",
              "      <th>...</th>\n",
              "      <td>...</td>\n",
              "      <td>...</td>\n",
              "      <td>...</td>\n",
              "      <td>...</td>\n",
              "      <td>...</td>\n",
              "      <td>...</td>\n",
              "      <td>...</td>\n",
              "      <td>...</td>\n",
              "      <td>...</td>\n",
              "      <td>...</td>\n",
              "    </tr>\n",
              "    <tr>\n",
              "      <th>7095</th>\n",
              "      <td>2022-03-11</td>\n",
              "      <td>6</td>\n",
              "      <td>5</td>\n",
              "      <td>1</td>\n",
              "      <td>Worst Roommate Ever</td>\n",
              "      <td>TV Show</td>\n",
              "      <td>Yes</td>\n",
              "      <td>Mar 1, 2022</td>\n",
              "      <td>10</td>\n",
              "      <td>81</td>\n",
              "    </tr>\n",
              "    <tr>\n",
              "      <th>7096</th>\n",
              "      <td>2022-03-11</td>\n",
              "      <td>7</td>\n",
              "      <td>7</td>\n",
              "      <td>2</td>\n",
              "      <td>Vikings: Valhalla</td>\n",
              "      <td>TV Show</td>\n",
              "      <td>Yes</td>\n",
              "      <td>Feb 25, 2022</td>\n",
              "      <td>14</td>\n",
              "      <td>100</td>\n",
              "    </tr>\n",
              "    <tr>\n",
              "      <th>7097</th>\n",
              "      <td>2022-03-11</td>\n",
              "      <td>8</td>\n",
              "      <td>8</td>\n",
              "      <td>-</td>\n",
              "      <td>Shooter</td>\n",
              "      <td>Movie</td>\n",
              "      <td>NaN</td>\n",
              "      <td>Aug 1, 2014</td>\n",
              "      <td>3</td>\n",
              "      <td>7</td>\n",
              "    </tr>\n",
              "    <tr>\n",
              "      <th>7098</th>\n",
              "      <td>2022-03-11</td>\n",
              "      <td>9</td>\n",
              "      <td>9</td>\n",
              "      <td>7</td>\n",
              "      <td>Shrek 2</td>\n",
              "      <td>Movie</td>\n",
              "      <td>NaN</td>\n",
              "      <td>Mar 1, 2022</td>\n",
              "      <td>10</td>\n",
              "      <td>33</td>\n",
              "    </tr>\n",
              "    <tr>\n",
              "      <th>7099</th>\n",
              "      <td>2022-03-11</td>\n",
              "      <td>10</td>\n",
              "      <td>10</td>\n",
              "      <td>-</td>\n",
              "      <td>Shrek</td>\n",
              "      <td>Movie</td>\n",
              "      <td>NaN</td>\n",
              "      <td>May 1, 2018</td>\n",
              "      <td>7</td>\n",
              "      <td>12</td>\n",
              "    </tr>\n",
              "  </tbody>\n",
              "</table>\n",
              "<p>7100 rows × 10 columns</p>\n",
              "</div>\n",
              "      <button class=\"colab-df-convert\" onclick=\"convertToInteractive('df-9a5539cb-9e32-46b2-b36c-88c24a567b71')\"\n",
              "              title=\"Convert this dataframe to an interactive table.\"\n",
              "              style=\"display:none;\">\n",
              "        \n",
              "  <svg xmlns=\"http://www.w3.org/2000/svg\" height=\"24px\"viewBox=\"0 0 24 24\"\n",
              "       width=\"24px\">\n",
              "    <path d=\"M0 0h24v24H0V0z\" fill=\"none\"/>\n",
              "    <path d=\"M18.56 5.44l.94 2.06.94-2.06 2.06-.94-2.06-.94-.94-2.06-.94 2.06-2.06.94zm-11 1L8.5 8.5l.94-2.06 2.06-.94-2.06-.94L8.5 2.5l-.94 2.06-2.06.94zm10 10l.94 2.06.94-2.06 2.06-.94-2.06-.94-.94-2.06-.94 2.06-2.06.94z\"/><path d=\"M17.41 7.96l-1.37-1.37c-.4-.4-.92-.59-1.43-.59-.52 0-1.04.2-1.43.59L10.3 9.45l-7.72 7.72c-.78.78-.78 2.05 0 2.83L4 21.41c.39.39.9.59 1.41.59.51 0 1.02-.2 1.41-.59l7.78-7.78 2.81-2.81c.8-.78.8-2.07 0-2.86zM5.41 20L4 18.59l7.72-7.72 1.47 1.35L5.41 20z\"/>\n",
              "  </svg>\n",
              "      </button>\n",
              "      \n",
              "  <style>\n",
              "    .colab-df-container {\n",
              "      display:flex;\n",
              "      flex-wrap:wrap;\n",
              "      gap: 12px;\n",
              "    }\n",
              "\n",
              "    .colab-df-convert {\n",
              "      background-color: #E8F0FE;\n",
              "      border: none;\n",
              "      border-radius: 50%;\n",
              "      cursor: pointer;\n",
              "      display: none;\n",
              "      fill: #1967D2;\n",
              "      height: 32px;\n",
              "      padding: 0 0 0 0;\n",
              "      width: 32px;\n",
              "    }\n",
              "\n",
              "    .colab-df-convert:hover {\n",
              "      background-color: #E2EBFA;\n",
              "      box-shadow: 0px 1px 2px rgba(60, 64, 67, 0.3), 0px 1px 3px 1px rgba(60, 64, 67, 0.15);\n",
              "      fill: #174EA6;\n",
              "    }\n",
              "\n",
              "    [theme=dark] .colab-df-convert {\n",
              "      background-color: #3B4455;\n",
              "      fill: #D2E3FC;\n",
              "    }\n",
              "\n",
              "    [theme=dark] .colab-df-convert:hover {\n",
              "      background-color: #434B5C;\n",
              "      box-shadow: 0px 1px 3px 1px rgba(0, 0, 0, 0.15);\n",
              "      filter: drop-shadow(0px 1px 2px rgba(0, 0, 0, 0.3));\n",
              "      fill: #FFFFFF;\n",
              "    }\n",
              "  </style>\n",
              "\n",
              "      <script>\n",
              "        const buttonEl =\n",
              "          document.querySelector('#df-9a5539cb-9e32-46b2-b36c-88c24a567b71 button.colab-df-convert');\n",
              "        buttonEl.style.display =\n",
              "          google.colab.kernel.accessAllowed ? 'block' : 'none';\n",
              "\n",
              "        async function convertToInteractive(key) {\n",
              "          const element = document.querySelector('#df-9a5539cb-9e32-46b2-b36c-88c24a567b71');\n",
              "          const dataTable =\n",
              "            await google.colab.kernel.invokeFunction('convertToInteractive',\n",
              "                                                     [key], {});\n",
              "          if (!dataTable) return;\n",
              "\n",
              "          const docLinkHtml = 'Like what you see? Visit the ' +\n",
              "            '<a target=\"_blank\" href=https://colab.research.google.com/notebooks/data_table.ipynb>data table notebook</a>'\n",
              "            + ' to learn more about interactive tables.';\n",
              "          element.innerHTML = '';\n",
              "          dataTable['output_type'] = 'display_data';\n",
              "          await google.colab.output.renderOutput(dataTable, element);\n",
              "          const docLink = document.createElement('div');\n",
              "          docLink.innerHTML = docLinkHtml;\n",
              "          element.appendChild(docLink);\n",
              "        }\n",
              "      </script>\n",
              "    </div>\n",
              "  </div>\n",
              "  "
            ]
          },
          "metadata": {},
          "execution_count": 80
        }
      ]
    },
    {
      "cell_type": "markdown",
      "source": [
        "\n",
        "#Medidas de centralidade e dispersão para cada variável\n",
        "\n",
        "\n"
      ],
      "metadata": {
        "id": "cd7KKi844fNs"
      }
    },
    {
      "cell_type": "code",
      "source": [
        "def centralidade_e_dispersao(dataframe_col):\n",
        "    col = np.array(dataframe_col)\n",
        "    print (\"\\n\",\"Media: \", np.mean(col))\n",
        "    print (\"\\n\",\"Desvio padrao: \", np.sqrt(np.var(col)))\n",
        "    \n",
        "    #boxplot\n",
        "    sns.boxplot(dataframe_col)"
      ],
      "metadata": {
        "id": "e-Bo7BZ74dfR"
      },
      "execution_count": null,
      "outputs": []
    },
    {
      "cell_type": "markdown",
      "source": [
        "#Runtime\n",
        "Tempo de duração do filme em minutos"
      ],
      "metadata": {
        "id": "S2pW8XUEbM3h"
      }
    },
    {
      "cell_type": "code",
      "source": [
        "centralidade_e_dispersao(movies_df.runtime)"
      ],
      "metadata": {
        "colab": {
          "base_uri": "https://localhost:8080/",
          "height": 348
        },
        "id": "budZ-lFIbrMQ",
        "outputId": "26164f8a-4771-4305-f3b0-5e511f54afeb"
      },
      "execution_count": null,
      "outputs": [
        {
          "output_type": "stream",
          "name": "stdout",
          "text": [
            "\n",
            " Media:  101.06620005832605\n",
            "\n",
            " Desvio padrao:  27.8604298224932\n"
          ]
        },
        {
          "output_type": "display_data",
          "data": {
            "text/plain": [
              "<Figure size 432x288 with 1 Axes>"
            ],
            "image/png": "[encoded data removed]"
          },
          "metadata": {
            "needs_background": "light"
          }
        }
      ]
    },
    {
      "cell_type": "markdown",
      "source": [
        "#Ratings\n",
        "Média de avaliações dos usuários"
      ],
      "metadata": {
        "id": "xEY12IoDdEEF"
      }
    },
    {
      "cell_type": "code",
      "source": [
        "centralidade_e_dispersao(movies_df.imdb_score)"
      ],
      "metadata": {
        "colab": {
          "base_uri": "https://localhost:8080/",
          "height": 349
        },
        "id": "GqyF8kK0dHvd",
        "outputId": "89332be4-bb10-43d2-c091-2447dbfba614"
      },
      "execution_count": null,
      "outputs": [
        {
          "output_type": "stream",
          "name": "stdout",
          "text": [
            "\n",
            " Media:  6.246748323126275\n",
            "\n",
            " Desvio padrao:  1.1273213300134064\n"
          ]
        },
        {
          "output_type": "display_data",
          "data": {
            "text/plain": [
              "<Figure size 432x288 with 1 Axes>"
            ],
            "image/png": "[encoded data removed]"
          },
          "metadata": {
            "needs_background": "light"
          }
        }
      ]
    },
    {
      "cell_type": "markdown",
      "source": [
        "#Genres\n",
        "Genero do filme"
      ],
      "metadata": {
        "id": "csE3Vo9hdPau"
      }
    },
    {
      "cell_type": "code",
      "source": [
        "print(\"Moda: \", movies_df.genres.mode())"
      ],
      "metadata": {
        "colab": {
          "base_uri": "https://localhost:8080/"
        },
        "id": "ufBgoY2SdU1L",
        "outputId": "f6ba17ea-31a9-4612-9577-b0529b48c4ea"
      },
      "execution_count": null,
      "outputs": [
        {
          "output_type": "stream",
          "name": "stdout",
          "text": [
            "Moda:  0    ['comedy']\n",
            "dtype: object\n"
          ]
        }
      ]
    },
    {
      "cell_type": "markdown",
      "source": [
        "#Viewership Score\n",
        "\n",
        "Índice de audiência"
      ],
      "metadata": {
        "id": "uxiWBoKgdbLG"
      }
    },
    {
      "cell_type": "code",
      "source": [
        "centralidade_e_dispersao(daily_top10_df[\"Viewership Score\"])"
      ],
      "metadata": {
        "colab": {
          "base_uri": "https://localhost:8080/",
          "height": 348
        },
        "id": "z89fAaKLdgC5",
        "outputId": "0d16ddf3-42c0-4c13-cd61-24b3054f5ce0"
      },
      "execution_count": null,
      "outputs": [
        {
          "output_type": "stream",
          "name": "stdout",
          "text": [
            "\n",
            " Media:  122.79014084507043\n",
            "\n",
            " Desvio padrao:  213.84658095112766\n"
          ]
        },
        {
          "output_type": "display_data",
          "data": {
            "text/plain": [
              "<Figure size 432x288 with 1 Axes>"
            ],
            "image/png": "[encoded data removed]"
          },
          "metadata": {
            "needs_background": "light"
          }
        }
      ]
    },
    {
      "cell_type": "markdown",
      "source": [
        "#Stock Value\n",
        "\n",
        "Preço da ação ajustado"
      ],
      "metadata": {
        "id": "YIzLbBvXdkNn"
      }
    },
    {
      "cell_type": "code",
      "source": [
        "centralidade_e_dispersao(stocks_df[\"Adj Close\"])"
      ],
      "metadata": {
        "colab": {
          "base_uri": "https://localhost:8080/",
          "height": 348
        },
        "id": "lRWFTdtbdo8A",
        "outputId": "62bd61b5-c76e-46ec-edfa-aa47065e7aff"
      },
      "execution_count": null,
      "outputs": [
        {
          "output_type": "stream",
          "name": "stdout",
          "text": [
            "\n",
            " Media:  105.43414864158366\n",
            "\n",
            " Desvio padrao:  157.05709691749655\n"
          ]
        },
        {
          "output_type": "display_data",
          "data": {
            "text/plain": [
              "<Figure size 432x288 with 1 Axes>"
            ],
            "image/png": "[encoded data removed]"
          },
          "metadata": {
            "needs_background": "light"
          }
        }
      ]
    },
    {
      "cell_type": "markdown",
      "source": [
        "#Medidas de centralidade e dispersão para cada variável"
      ],
      "metadata": {
        "id": "laG0RzzwXjm-"
      }
    },
    {
      "cell_type": "code",
      "source": [
        "def daily_top10_df_t (a):\n",
        "    print(\"Medidas de Centralidade e Dispersão para \",a)\n",
        "    print(\"Media: \",daily_top10_df[a].mean())\n",
        "    print(\"Desvio padrão: \",daily_top10_df[a].std())\n",
        "    print(\"Mediana: \",daily_top10_df[a].median())\n",
        "    print(\"Variancia: \",daily_top10_df[a].var())\n",
        "    print(\"Moda:\\n\",daily_top10_df[a].mode())\n",
        "    print(\"Boxplot para \",a)\n",
        "    daily_top10_df.boxplot(column=a)"
      ],
      "metadata": {
        "id": "5e_dmZmjXyvk"
      },
      "execution_count": null,
      "outputs": []
    },
    {
      "cell_type": "code",
      "source": [
        "daily_top10_df_t(\"Viewership Score\")"
      ],
      "metadata": {
        "colab": {
          "base_uri": "https://localhost:8080/",
          "height": 421
        },
        "id": "62Nt05rJYDGf",
        "outputId": "25ac9556-ec93-48fd-8947-0fe1e619856c"
      },
      "execution_count": null,
      "outputs": [
        {
          "output_type": "stream",
          "name": "stdout",
          "text": [
            "Medidas de Centralidade e Dispersão para  Viewership Score\n",
            "Media:  122.79014084507043\n",
            "Desvio padrão:  213.86164216049602\n",
            "Mediana:  50.0\n",
            "Variancia:  45736.80198758405\n",
            "Moda:\n",
            " 0    8\n",
            "dtype: int64\n",
            "Boxplot para  Viewership Score\n"
          ]
        },
        {
          "output_type": "display_data",
          "data": {
            "text/plain": [
              "<Figure size 432x288 with 1 Axes>"
            ],
            "image/png": "[encoded data removed]"
          },
          "metadata": {
            "needs_background": "light"
          }
        }
      ]
    },
    {
      "cell_type": "code",
      "source": [
        "daily_top10_df_t(\"Days In Top 10\")"
      ],
      "metadata": {
        "colab": {
          "base_uri": "https://localhost:8080/",
          "height": 421
        },
        "id": "o1Q1GVYZe_V1",
        "outputId": "92f4fc48-f684-44c2-a54e-72dcd630a95b"
      },
      "execution_count": null,
      "outputs": [
        {
          "output_type": "stream",
          "name": "stdout",
          "text": [
            "Medidas de Centralidade e Dispersão para  Days In Top 10\n",
            "Media:  24.123661971830987\n",
            "Desvio padrão:  58.47378925134753\n",
            "Mediana:  7.0\n",
            "Variancia:  3419.184029411006\n",
            "Moda:\n",
            " 0    1\n",
            "dtype: int64\n",
            "Boxplot para  Days In Top 10\n"
          ]
        },
        {
          "output_type": "display_data",
          "data": {
            "text/plain": [
              "<Figure size 432x288 with 1 Axes>"
            ],
            "image/png": "[encoded data removed]"
          },
          "metadata": {
            "needs_background": "light"
          }
        }
      ]
    },
    {
      "cell_type": "markdown",
      "source": [
        "#Grafico de dispersão\n",
        "\n",
        "Analisar a correlação e tendencias de duas variaveis"
      ],
      "metadata": {
        "id": "UXCuMcOAyUzC"
      }
    },
    {
      "cell_type": "code",
      "source": [
        "sns.lmplot(data = catalog_df, x = \"imdb_score\", y = \"runtime\")"
      ],
      "metadata": {
        "colab": {
          "base_uri": "https://localhost:8080/",
          "height": 386
        },
        "id": "9bgH72S_0YtG",
        "outputId": "51626a96-7f6c-4ee0-df35-d05e392f95ad"
      },
      "execution_count": 23,
      "outputs": [
        {
          "output_type": "execute_result",
          "data": {
            "text/plain": [
              "<seaborn.axisgrid.FacetGrid at 0x7fcde16aa750>"
            ]
          },
          "metadata": {},
          "execution_count": 23
        },
        {
          "output_type": "display_data",
          "data": {
            "text/plain": [
              "<Figure size 360x360 with 1 Axes>"
            ],
            "image/png": "[encoded data removed]"
          },
          "metadata": {
            "needs_background": "light"
          }
        }
      ]
    },
    {
      "cell_type": "code",
      "source": [
        "sns.lmplot(data = movies_df, x = \"imdb_score\", y = \"runtime\")"
      ],
      "metadata": {
        "colab": {
          "base_uri": "https://localhost:8080/",
          "height": 386
        },
        "id": "tNNOxWxg0j5U",
        "outputId": "ffd5767d-2477-4668-baf4-e6ddf5c69ba2"
      },
      "execution_count": 24,
      "outputs": [
        {
          "output_type": "execute_result",
          "data": {
            "text/plain": [
              "<seaborn.axisgrid.FacetGrid at 0x7fcde17e6b10>"
            ]
          },
          "metadata": {},
          "execution_count": 24
        },
        {
          "output_type": "display_data",
          "data": {
            "text/plain": [
              "<Figure size 360x360 with 1 Axes>"
            ],
            "image/png": "[encoded data removed]"
          },
          "metadata": {
            "needs_background": "light"
          }
        }
      ]
    },
    {
      "cell_type": "code",
      "source": [
        "sns.lmplot(data = movies_df, x = \"release_year\", y = \"imdb_score\")"
      ],
      "metadata": {
        "colab": {
          "base_uri": "https://localhost:8080/",
          "height": 386
        },
        "id": "d2KROXog0r1G",
        "outputId": "6ea721e4-0cf6-4c6a-b322-cebb8bc3ee5c"
      },
      "execution_count": 25,
      "outputs": [
        {
          "output_type": "execute_result",
          "data": {
            "text/plain": [
              "<seaborn.axisgrid.FacetGrid at 0x7fcde160efd0>"
            ]
          },
          "metadata": {},
          "execution_count": 25
        },
        {
          "output_type": "display_data",
          "data": {
            "text/plain": [
              "<Figure size 360x360 with 1 Axes>"
            ],
            "image/png": "[encoded data removed]"
          },
          "metadata": {
            "needs_background": "light"
          }
        }
      ]
    },
    {
      "cell_type": "markdown",
      "source": [
        "#Histograma\n",
        "\n",
        "Frequencias dos dados\n"
      ],
      "metadata": {
        "id": "C9cveoV66FZ0"
      }
    },
    {
      "cell_type": "code",
      "source": [
        "sns.histplot(data=daily_top10_df, x=\"Viewership Score\")"
      ],
      "metadata": {
        "colab": {
          "base_uri": "https://localhost:8080/",
          "height": 296
        },
        "id": "lYhz7MyJ_Q7I",
        "outputId": "14a8fdca-0556-4671-b57e-328da817a9fe"
      },
      "execution_count": 38,
      "outputs": [
        {
          "output_type": "execute_result",
          "data": {
            "text/plain": [
              "<matplotlib.axes._subplots.AxesSubplot at 0x7fcddee1f290>"
            ]
          },
          "metadata": {},
          "execution_count": 38
        },
        {
          "output_type": "display_data",
          "data": {
            "text/plain": [
              "<Figure size 432x288 with 1 Axes>"
            ],
            "image/png": "[encoded data removed]"
          },
          "metadata": {
            "needs_background": "light"
          }
        }
      ]
    },
    {
      "cell_type": "code",
      "source": [
        "\n",
        "sns.histplot(data=movies_df, x=\"imdb_score\")"
      ],
      "metadata": {
        "colab": {
          "base_uri": "https://localhost:8080/",
          "height": 297
        },
        "id": "N1fP5ELy2JRA",
        "outputId": "0fc79591-3137-4be9-ba71-3e49dfc64eee"
      },
      "execution_count": 30,
      "outputs": [
        {
          "output_type": "execute_result",
          "data": {
            "text/plain": [
              "<matplotlib.axes._subplots.AxesSubplot at 0x7fcddf56b950>"
            ]
          },
          "metadata": {},
          "execution_count": 30
        },
        {
          "output_type": "display_data",
          "data": {
            "text/plain": [
              "<Figure size 432x288 with 1 Axes>"
            ],
            "image/png": "[encoded data removed]"
          },
          "metadata": {
            "needs_background": "light"
          }
        }
      ]
    },
    {
      "cell_type": "markdown",
      "source": [
        "#Grafico de barra"
      ],
      "metadata": {
        "id": "8-2iglOA6X7F"
      }
    },
    {
      "cell_type": "code",
      "source": [
        "sns.barplot(data=daily_top10_df, x=\"Type\", y=\"Days In Top 10\")"
      ],
      "metadata": {
        "colab": {
          "base_uri": "https://localhost:8080/",
          "height": 296
        },
        "id": "VsyM_zSC7hzP",
        "outputId": "cbc0c6fa-8790-43bf-aa56-d9be4705b922"
      },
      "execution_count": 34,
      "outputs": [
        {
          "output_type": "execute_result",
          "data": {
            "text/plain": [
              "<matplotlib.axes._subplots.AxesSubplot at 0x7fcddfede050>"
            ]
          },
          "metadata": {},
          "execution_count": 34
        },
        {
          "output_type": "display_data",
          "data": {
            "text/plain": [
              "<Figure size 432x288 with 1 Axes>"
            ],
            "image/png": "[encoded data removed]"
          },
          "metadata": {
            "needs_background": "light"
          }
        }
      ]
    },
    {
      "cell_type": "code",
      "source": [
        "sns.barplot(data = catalog_df, x=\"type\", y=\"imdb_score\")"
      ],
      "metadata": {
        "colab": {
          "base_uri": "https://localhost:8080/",
          "height": 296
        },
        "id": "uH5YWBgQ-XJe",
        "outputId": "783c62cd-d4ac-4401-c2a5-9c71e30ee574"
      },
      "execution_count": 37,
      "outputs": [
        {
          "output_type": "execute_result",
          "data": {
            "text/plain": [
              "<matplotlib.axes._subplots.AxesSubplot at 0x7fcddf1321d0>"
            ]
          },
          "metadata": {},
          "execution_count": 37
        },
        {
          "output_type": "display_data",
          "data": {
            "text/plain": [
              "<Figure size 432x288 with 1 Axes>"
            ],
            "image/png": "[encoded data removed]"
          },
          "metadata": {
            "needs_background": "light"
          }
        }
      ]
    },
    {
      "cell_type": "markdown",
      "source": [
        "#Grafico de linha\n"
      ],
      "metadata": {
        "id": "S_gTcU98AXXY"
      }
    },
    {
      "cell_type": "code",
      "source": [
        "sns.lineplot(data=catalog_df, x=\"type\", y=\"imdb_score\")"
      ],
      "metadata": {
        "colab": {
          "base_uri": "https://localhost:8080/",
          "height": 296
        },
        "id": "zvql9W_GAbMF",
        "outputId": "54d24ee4-f67e-4922-c960-b27bccfdc2a5"
      },
      "execution_count": 39,
      "outputs": [
        {
          "output_type": "execute_result",
          "data": {
            "text/plain": [
              "<matplotlib.axes._subplots.AxesSubplot at 0x7fcddec8fc10>"
            ]
          },
          "metadata": {},
          "execution_count": 39
        },
        {
          "output_type": "display_data",
          "data": {
            "text/plain": [
              "<Figure size 432x288 with 1 Axes>"
            ],
            "image/png": "[encoded data removed]"
          },
          "metadata": {
            "needs_background": "light"
          }
        }
      ]
    },
    {
      "cell_type": "markdown",
      "source": [
        "#Conclusão\n"
      ],
      "metadata": {
        "id": "90a5cJWBfjSl"
      }
    }
  ]
}